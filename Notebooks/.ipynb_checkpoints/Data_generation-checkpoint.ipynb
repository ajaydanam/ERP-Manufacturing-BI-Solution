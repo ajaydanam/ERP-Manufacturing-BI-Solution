{
 "cells": [
  {
   "cell_type": "markdown",
   "id": "0f399083-69a8-4ee6-931f-8a64074a6377",
   "metadata": {},
   "source": [
    "IMPORTS"
   ]
  },
  {
   "cell_type": "code",
   "execution_count": 77,
   "id": "7f0e27cb-7167-466a-b2cc-9ddb56a5bb5d",
   "metadata": {},
   "outputs": [
    {
     "name": "stdout",
     "output_type": "stream",
     "text": [
      "Requirement already satisfied: faker in c:\\users\\ajayd\\anaconda3\\lib\\site-packages (37.4.0)\n",
      "Requirement already satisfied: tzdata in c:\\users\\ajayd\\anaconda3\\lib\\site-packages (from faker) (2023.3)\n"
     ]
    }
   ],
   "source": [
    "!pip install faker\n",
    "import pandas as pd\n",
    "import numpy as np\n",
    "import random\n",
    "from faker import Faker\n",
    "from datetime import timedelta, datetime\n",
    "faker = Faker()\n",
    "random.seed(42)\n",
    "np.random.seed(42)"
   ]
  },
  {
   "cell_type": "markdown",
   "id": "29893057-f2fb-48ac-b3de-5640d474530e",
   "metadata": {},
   "source": [
    "DIMENSION TABLES"
   ]
  },
  {
   "cell_type": "code",
   "execution_count": 79,
   "id": "8ab3aad3-de19-4532-bc14-864a58042dae",
   "metadata": {},
   "outputs": [],
   "source": [
    "# dim_date\n",
    "date_range = pd.date_range(start='2022-01-01', end='2024-12-31', freq='D')\n",
    "dim_date = pd.DataFrame({\n",
    "    'date_key': date_range.strftime('%Y%m%d').astype(int),\n",
    "    'full_date': date_range,\n",
    "    'day': date_range.day,\n",
    "    'month': date_range.month,\n",
    "    'quarter': date_range.quarter,\n",
    "    'year': date_range.year,\n",
    "    'weekday': date_range.day_name()\n",
    "})"
   ]
  },
  {
   "cell_type": "code",
   "execution_count": 80,
   "id": "1f4658ca-4646-4b02-9617-737daa4e04b3",
   "metadata": {},
   "outputs": [
    {
     "name": "stdout",
     "output_type": "stream",
     "text": [
      "   plant_id plant_name   region\n",
      "0         1    Plant 1   Mexico\n",
      "1         2    Plant 2      USA\n",
      "2         3    Plant 3  Germany\n",
      "3         4    Plant 4  Germany\n",
      "4         5    Plant 5   Mexico\n",
      "       plant_id\n",
      "count  10.00000\n",
      "mean    5.50000\n",
      "std     3.02765\n",
      "min     1.00000\n",
      "25%     3.25000\n",
      "50%     5.50000\n",
      "75%     7.75000\n",
      "max    10.00000\n"
     ]
    }
   ],
   "source": [
    "# dim_plant\n",
    "plant_ids = list(range(1, 11))\n",
    "dim_plant = pd.DataFrame({\n",
    "    'plant_id': plant_ids,\n",
    "    'plant_name': [f'Plant {i}' for i in plant_ids],\n",
    "    'region': random.choices(['USA', 'Germany', 'India', 'Mexico', 'China'], k=10)\n",
    "})\n",
    "print(dim_plant.head());\n",
    "print(dim_plant.describe());"
   ]
  },
  {
   "cell_type": "code",
   "execution_count": 81,
   "id": "4e8d864e-ae75-4004-af27-dac7575cd907",
   "metadata": {},
   "outputs": [
    {
     "name": "stdout",
     "output_type": "stream",
     "text": [
      "   shift_id shift_name\n",
      "0         1    Morning\n",
      "1         2  Afternoon\n",
      "2         3      Night\n",
      "       shift_id\n",
      "count       3.0\n",
      "mean        2.0\n",
      "std         1.0\n",
      "min         1.0\n",
      "25%         1.5\n",
      "50%         2.0\n",
      "75%         2.5\n",
      "max         3.0\n"
     ]
    }
   ],
   "source": [
    "# dim_shift\n",
    "dim_shift = pd.DataFrame({\n",
    "    'shift_id': [1, 2, 3],\n",
    "    'shift_name': ['Morning', 'Afternoon', 'Night']\n",
    "})\n",
    "print(dim_shift.head());\n",
    "print(dim_shift.describe());"
   ]
  },
  {
   "cell_type": "code",
   "execution_count": 82,
   "id": "c8379f92-296e-428a-ae7e-5f10f8597520",
   "metadata": {},
   "outputs": [
    {
     "name": "stdout",
     "output_type": "stream",
     "text": [
      "   fault_id      fault_name\n",
      "0         1        Overheat\n",
      "1         2      Power Loss\n",
      "2         3  Sensor Failure\n",
      "3         4  Mechanical Jam\n",
      "4         5     Oil Leakage\n",
      "       fault_id\n",
      "count  5.000000\n",
      "mean   3.000000\n",
      "std    1.581139\n",
      "min    1.000000\n",
      "25%    2.000000\n",
      "50%    3.000000\n",
      "75%    4.000000\n",
      "max    5.000000\n"
     ]
    }
   ],
   "source": [
    "# dim_fault_type\n",
    "fault_types = ['Overheat', 'Power Loss', 'Sensor Failure', 'Mechanical Jam', 'Oil Leakage']\n",
    "dim_fault_type = pd.DataFrame({\n",
    "    'fault_id': list(range(1, len(fault_types)+1)),\n",
    "    'fault_name': fault_types\n",
    "})\n",
    "print(dim_fault_type.head());\n",
    "print(dim_fault_type.describe());"
   ]
  },
  {
   "cell_type": "code",
   "execution_count": 83,
   "id": "7093a031-6e25-4851-a6f9-fe6a6f7113a6",
   "metadata": {},
   "outputs": [
    {
     "name": "stdout",
     "output_type": "stream",
     "text": [
      "   product_id   product_name    category    unit\n",
      "0           1  Identify Part  Electrical      kg\n",
      "1           2     Green Part  Mechanical      kg\n",
      "2           3   Surface Part  Electrical   units\n",
      "3           4       Eye Part  Electrical  liters\n",
      "4           5      Deal Part  Mechanical   units\n",
      "       product_id\n",
      "count  500.000000\n",
      "mean   250.500000\n",
      "std    144.481833\n",
      "min      1.000000\n",
      "25%    125.750000\n",
      "50%    250.500000\n",
      "75%    375.250000\n",
      "max    500.000000\n"
     ]
    }
   ],
   "source": [
    "# dim_product\n",
    "dim_product = pd.DataFrame({\n",
    "    'product_id': range(1, 501),\n",
    "    'product_name': [faker.word().capitalize() + \" Part\" for _ in range(500)],\n",
    "    'category': random.choices(['Electrical', 'Mechanical', 'Chemical'], k=500),\n",
    "    'unit': random.choices(['kg', 'liters', 'units'], k=500)\n",
    "})\n",
    "print(dim_product.head());\n",
    "print(dim_product.describe());"
   ]
  },
  {
   "cell_type": "code",
   "execution_count": 84,
   "id": "d77f9355-cfc3-4200-b905-5092a50a334d",
   "metadata": {},
   "outputs": [
    {
     "name": "stdout",
     "output_type": "stream",
     "text": [
      "   operator_id             name  experience_years department\n",
      "0            1   Michelle Jones                 7    Welding\n",
      "1            2     Ashley Moore                20    Welding\n",
      "2            3  Kimberly Barnes                15    Welding\n",
      "3            4    Rebecca Smith                11   Assembly\n",
      "4            5      Jamie Patel                 8         QA\n",
      "       operator_id  experience_years\n",
      "count  3000.000000       3000.000000\n",
      "mean   1500.500000         10.354000\n",
      "std     866.169729          5.825804\n",
      "min       1.000000          1.000000\n",
      "25%     750.750000          5.000000\n",
      "50%    1500.500000         10.000000\n",
      "75%    2250.250000         15.000000\n",
      "max    3000.000000         20.000000\n"
     ]
    }
   ],
   "source": [
    "# dim_operator\n",
    "dim_operator = pd.DataFrame({\n",
    "    'operator_id': range(1, 3001),\n",
    "    'name': [faker.name() for _ in range(3000)],\n",
    "    'experience_years': np.random.randint(1, 21, size=3000),\n",
    "    'department': random.choices(['Assembly', 'Packaging', 'Welding', 'QA'], k=3000)\n",
    "})\n",
    "print(dim_operator.head());\n",
    "print(dim_operator.describe());"
   ]
  },
  {
   "cell_type": "code",
   "execution_count": 85,
   "id": "dc93bf2b-3f14-4577-afd8-157d52006621",
   "metadata": {},
   "outputs": [
    {
     "name": "stdout",
     "output_type": "stream",
     "text": [
      "   machine_id machine_type install_date\n",
      "0           1        Drill   2012-10-03\n",
      "1           2     Conveyor   2019-06-17\n",
      "2           3        Lathe   2017-12-27\n",
      "3           4    Robot Arm   2010-04-08\n",
      "4           5       Welder   2013-02-07\n",
      "       machine_id\n",
      "count  500.000000\n",
      "mean   250.500000\n",
      "std    144.481833\n",
      "min      1.000000\n",
      "25%    125.750000\n",
      "50%    250.500000\n",
      "75%    375.250000\n",
      "max    500.000000\n"
     ]
    }
   ],
   "source": [
    "from datetime import datetime\n",
    "\n",
    "start_date = datetime.strptime('2010-01-01', '%Y-%m-%d').date()\n",
    "end_date = datetime.strptime('2020-01-01', '%Y-%m-%d').date()\n",
    "\n",
    "# dim_machine\n",
    "dim_machine = pd.DataFrame({\n",
    "    'machine_id': range(1, 501),\n",
    "    'machine_type': random.choices(['Drill', 'Lathe', 'Conveyor', 'Welder', 'Robot Arm'], k=500),\n",
    "    'install_date': [faker.date_between(start_date=start_date, end_date=end_date) for _ in range(500)]\n",
    "})\n",
    "print(dim_machine.head());\n",
    "print(dim_machine.describe());"
   ]
  },
  {
   "cell_type": "markdown",
   "id": "cc6df13a-bf5c-4bff-b5c5-3c5c686da101",
   "metadata": {},
   "source": [
    "FACT TABLES"
   ]
  },
  {
   "cell_type": "code",
   "execution_count": 87,
   "id": "344ceb40-6eb2-4cfd-ba16-e8e9da440e1c",
   "metadata": {},
   "outputs": [],
   "source": [
    "NUM_ROWS_PRODUCTION = 200000\n",
    "NUM_ROWS_QUALITY = 100000\n",
    "NUM_ROWS_DOWNTIME = 80000\n",
    "NUM_ROWS_COST = 150000\n",
    "NUM_ROWS_INVENTORY = 200000\n",
    "\n",
    "# Helper Lists\n",
    "date_keys = dim_date['date_key'].tolist()\n",
    "product_ids = dim_product['product_id'].tolist()\n",
    "plant_ids = dim_plant['plant_id'].tolist()\n",
    "operator_ids = dim_operator['operator_id'].tolist()\n",
    "machine_ids = dim_machine['machine_id'].tolist()\n",
    "fault_ids = dim_fault_type['fault_id'].tolist()\n",
    "shift_ids = dim_shift['shift_id'].tolist()\n"
   ]
  },
  {
   "cell_type": "code",
   "execution_count": 88,
   "id": "21a88a50-7a8a-44d3-a33c-b7a642ac9d1f",
   "metadata": {},
   "outputs": [
    {
     "name": "stdout",
     "output_type": "stream",
     "text": [
      "   order_id  product_id  plant_id  date_key  shift_id  planned_qty  actual_qty\n",
      "0         1         109         5  20241220         2          252         246\n",
      "1         2         224         1  20231118         1          834         803\n",
      "2         3         496         2  20220611         3          492         395\n",
      "3         4         278         6  20221011         3          333         317\n",
      "4         5          68         2  20240708         2          605         514\n",
      "            order_id     product_id       plant_id      date_key  \\\n",
      "count  200000.000000  200000.000000  200000.000000  2.000000e+05   \n",
      "mean   100000.500000     249.998370       5.491125  2.023064e+07   \n",
      "std     57735.171256     144.265929       2.871282  8.174916e+03   \n",
      "min         1.000000       1.000000       1.000000  2.022010e+07   \n",
      "25%     50000.750000     125.000000       3.000000  2.022093e+07   \n",
      "50%    100000.500000     250.000000       5.000000  2.023070e+07   \n",
      "75%    150000.250000     375.000000       8.000000  2.024033e+07   \n",
      "max    200000.000000     500.000000      10.000000  2.024123e+07   \n",
      "\n",
      "            shift_id    planned_qty     actual_qty  \n",
      "count  200000.000000  200000.000000  200000.000000  \n",
      "mean        1.999430     550.161270     525.631145  \n",
      "std         0.815686     260.080726     263.652958  \n",
      "min         1.000000     100.000000       1.000000  \n",
      "25%         1.000000     325.000000     300.000000  \n",
      "50%         2.000000     551.000000     526.000000  \n",
      "75%         3.000000     775.000000     751.000000  \n",
      "max         3.000000     999.000000    1049.000000  \n"
     ]
    }
   ],
   "source": [
    "# fact_production_orders\n",
    "fact_production_orders = pd.DataFrame({\n",
    "    'order_id': range(1, NUM_ROWS_PRODUCTION+1),\n",
    "    'product_id': np.random.choice(product_ids, NUM_ROWS_PRODUCTION),\n",
    "    'plant_id': np.random.choice(plant_ids, NUM_ROWS_PRODUCTION),\n",
    "    'date_key': np.random.choice(date_keys, NUM_ROWS_PRODUCTION),\n",
    "    'shift_id': np.random.choice(shift_ids, NUM_ROWS_PRODUCTION),\n",
    "    'planned_qty': np.random.randint(100, 1000, NUM_ROWS_PRODUCTION)\n",
    "})\n",
    "fact_production_orders['actual_qty'] = fact_production_orders['planned_qty'] - np.random.randint(-50, 100, NUM_ROWS_PRODUCTION)\n",
    "print(fact_production_orders.head());\n",
    "print(fact_production_orders.describe());"
   ]
  },
  {
   "cell_type": "code",
   "execution_count": 89,
   "id": "412c742e-4830-4cd0-9f7e-e3671a2c37c9",
   "metadata": {},
   "outputs": [
    {
     "name": "stdout",
     "output_type": "stream",
     "text": [
      "   log_id  product_id  plant_id  date_key  operator_id   defect_type  \\\n",
      "0       1         456         2  20240423         1145       Scratch   \n",
      "1       2          84         4  20230514          785          Dent   \n",
      "2       3         372         9  20231107         2726  Misalignment   \n",
      "3       4          98         6  20240520          780  Misalignment   \n",
      "4       5         292         8  20240919         1278  Misalignment   \n",
      "\n",
      "   rework_hours  \n",
      "0          2.04  \n",
      "1          4.25  \n",
      "2          3.02  \n",
      "3          1.85  \n",
      "4          1.09  \n",
      "              log_id     product_id       plant_id      date_key  \\\n",
      "count  100000.000000  100000.000000  100000.000000  1.000000e+05   \n",
      "mean    50000.500000     249.768870       5.496480  2.023066e+07   \n",
      "std     28867.657797     144.057041       2.876385  8.163361e+03   \n",
      "min         1.000000       1.000000       1.000000  2.022010e+07   \n",
      "25%     25000.750000     125.000000       3.000000  2.022100e+07   \n",
      "50%     50000.500000     249.000000       6.000000  2.023070e+07   \n",
      "75%     75000.250000     374.000000       8.000000  2.024033e+07   \n",
      "max    100000.000000     500.000000      10.000000  2.024123e+07   \n",
      "\n",
      "         operator_id   rework_hours  \n",
      "count  100000.000000  100000.000000  \n",
      "mean     1499.965240       2.754195  \n",
      "std       864.776921       1.301487  \n",
      "min         1.000000       0.500000  \n",
      "25%       752.000000       1.620000  \n",
      "50%      1501.000000       2.760000  \n",
      "75%      2249.000000       3.880000  \n",
      "max      3000.000000       5.000000  \n"
     ]
    }
   ],
   "source": [
    "# fact_quality_logs\n",
    "fact_quality_logs = pd.DataFrame({\n",
    "    'log_id': range(1, NUM_ROWS_QUALITY+1),\n",
    "    'product_id': np.random.choice(product_ids, NUM_ROWS_QUALITY),\n",
    "    'plant_id': np.random.choice(plant_ids, NUM_ROWS_QUALITY),\n",
    "    'date_key': np.random.choice(date_keys, NUM_ROWS_QUALITY),\n",
    "    'operator_id': np.random.choice(operator_ids, NUM_ROWS_QUALITY),\n",
    "    'defect_type': np.random.choice(['Scratch', 'Dent', 'Misalignment', 'Color Deviation'], NUM_ROWS_QUALITY),\n",
    "    'rework_hours': np.round(np.random.uniform(0.5, 5.0, NUM_ROWS_QUALITY), 2)\n",
    "})\n",
    "print(fact_quality_logs.head());\n",
    "print(fact_quality_logs.describe());"
   ]
  },
  {
   "cell_type": "code",
   "execution_count": 90,
   "id": "1de61c6b-7b9f-4742-9e79-d3dfae559b63",
   "metadata": {},
   "outputs": [
    {
     "name": "stdout",
     "output_type": "stream",
     "text": [
      "   event_id  machine_id  plant_id  date_key  fault_id  operator_id  \\\n",
      "0         1         212         3  20220722         1         1965   \n",
      "1         2         482         8  20241118         1         2660   \n",
      "2         3           2         1  20230830         5          566   \n",
      "3         4         284        10  20240528         2         1948   \n",
      "4         5         366         6  20220311         3         2895   \n",
      "\n",
      "   downtime_minutes  \n",
      "0               181  \n",
      "1                16  \n",
      "2                40  \n",
      "3               237  \n",
      "4               196  \n",
      "           event_id    machine_id      plant_id      date_key      fault_id  \\\n",
      "count  80000.000000  80000.000000  80000.000000  8.000000e+04  80000.000000   \n",
      "mean   40000.500000    250.178712      5.497250  2.023068e+07      2.991788   \n",
      "std    23094.155105    144.297703      2.863332  8.171362e+03      1.415299   \n",
      "min        1.000000      1.000000      1.000000  2.022010e+07      1.000000   \n",
      "25%    20000.750000    125.000000      3.000000  2.022100e+07      2.000000   \n",
      "50%    40000.500000    250.000000      6.000000  2.023070e+07      3.000000   \n",
      "75%    60000.250000    375.000000      8.000000  2.024040e+07      4.000000   \n",
      "max    80000.000000    500.000000     10.000000  2.024123e+07      5.000000   \n",
      "\n",
      "        operator_id  downtime_minutes  \n",
      "count  80000.000000      80000.000000  \n",
      "mean    1497.000837        124.311700  \n",
      "std      867.174636         66.398497  \n",
      "min        1.000000         10.000000  \n",
      "25%      743.750000         67.000000  \n",
      "50%     1494.000000        124.000000  \n",
      "75%     2252.000000        182.000000  \n",
      "max     3000.000000        239.000000  \n"
     ]
    }
   ],
   "source": [
    "# fact_machine_downtime\n",
    "fact_machine_downtime = pd.DataFrame({\n",
    "    'event_id': range(1, NUM_ROWS_DOWNTIME+1),\n",
    "    'machine_id': np.random.choice(machine_ids, NUM_ROWS_DOWNTIME),\n",
    "    'plant_id': np.random.choice(plant_ids, NUM_ROWS_DOWNTIME),\n",
    "    'date_key': np.random.choice(date_keys, NUM_ROWS_DOWNTIME),\n",
    "    'fault_id': np.random.choice(fault_ids, NUM_ROWS_DOWNTIME),\n",
    "    'operator_id': np.random.choice(operator_ids, NUM_ROWS_DOWNTIME),\n",
    "    'downtime_minutes': np.random.randint(10, 240, NUM_ROWS_DOWNTIME)\n",
    "})\n",
    "print(fact_machine_downtime.head());\n",
    "print(fact_machine_downtime.describe());"
   ]
  },
  {
   "cell_type": "code",
   "execution_count": 91,
   "id": "80c799ce-2b45-4ca3-8f5d-857e14a37094",
   "metadata": {},
   "outputs": [
    {
     "name": "stdout",
     "output_type": "stream",
     "text": [
      "   entry_id  product_id  plant_id  date_key  standard_cost  actual_cost\n",
      "0         1         136         2  20241021         279.25       326.54\n",
      "1         2         412         6  20220107         402.08       399.36\n",
      "2         3         378        10  20230910          54.57        48.24\n",
      "3         4         453         4  20231125         139.38       172.66\n",
      "4         5          50         4  20220605         479.79       515.45\n",
      "            entry_id     product_id       plant_id      date_key  \\\n",
      "count  150000.000000  150000.000000  150000.000000  1.500000e+05   \n",
      "mean    75000.500000     250.210427       5.499060  2.023070e+07   \n",
      "std     43301.414527     144.486220       2.876092  8.184323e+03   \n",
      "min         1.000000       1.000000       1.000000  2.022010e+07   \n",
      "25%     37500.750000     125.000000       3.000000  2.022100e+07   \n",
      "50%     75000.500000     250.000000       5.000000  2.023070e+07   \n",
      "75%    112500.250000     376.000000       8.000000  2.024040e+07   \n",
      "max    150000.000000     500.000000      10.000000  2.024123e+07   \n",
      "\n",
      "       standard_cost    actual_cost  \n",
      "count  150000.000000  150000.000000  \n",
      "mean      275.007521     289.984728  \n",
      "std       129.982006     131.549252  \n",
      "min        50.000000      30.680000  \n",
      "25%       162.360000     177.600000  \n",
      "50%       275.430000     289.945000  \n",
      "75%       387.352500     402.310000  \n",
      "max       500.000000     549.420000  \n"
     ]
    }
   ],
   "source": [
    "# fact_cost_journals\n",
    "fact_cost_journals = pd.DataFrame({\n",
    "    'entry_id': range(1, NUM_ROWS_COST+1),\n",
    "    'product_id': np.random.choice(product_ids, NUM_ROWS_COST),\n",
    "    'plant_id': np.random.choice(plant_ids, NUM_ROWS_COST),\n",
    "    'date_key': np.random.choice(date_keys, NUM_ROWS_COST),\n",
    "    'standard_cost': np.round(np.random.uniform(50, 500, NUM_ROWS_COST), 2)\n",
    "})\n",
    "fact_cost_journals['actual_cost'] = fact_cost_journals['standard_cost'] + np.round(np.random.uniform(-20, 50, NUM_ROWS_COST), 2)\n",
    "print(fact_cost_journals.head());\n",
    "print(fact_cost_journals.describe());"
   ]
  },
  {
   "cell_type": "code",
   "execution_count": 92,
   "id": "5a39629b-bb9f-41e2-b15d-cd74e7034801",
   "metadata": {},
   "outputs": [
    {
     "name": "stdout",
     "output_type": "stream",
     "text": [
      "   movement_id  product_id  plant_id  date_key movement_type  quantity\n",
      "0            1         102         2  20241124            IN       443\n",
      "1            2         131         1  20240914            IN       447\n",
      "2            3          72         1  20230106            IN       458\n",
      "3            4         153         5  20231227            IN        56\n",
      "4            5          61         9  20220316           OUT       188\n",
      "         movement_id     product_id       plant_id      date_key  \\\n",
      "count  200000.000000  200000.000000  200000.000000  2.000000e+05   \n",
      "mean   100000.500000     250.712820       5.504680  2.023067e+07   \n",
      "std     57735.171256     144.382982       2.871042  8.182531e+03   \n",
      "min         1.000000       1.000000       1.000000  2.022010e+07   \n",
      "25%     50000.750000     125.000000       3.000000  2.022093e+07   \n",
      "50%    100000.500000     251.000000       6.000000  2.023070e+07   \n",
      "75%    150000.250000     376.000000       8.000000  2.024040e+07   \n",
      "max    200000.000000     500.000000      10.000000  2.024123e+07   \n",
      "\n",
      "            quantity  \n",
      "count  200000.000000  \n",
      "mean      254.399330  \n",
      "std       141.567918  \n",
      "min        10.000000  \n",
      "25%       132.000000  \n",
      "50%       254.000000  \n",
      "75%       377.000000  \n",
      "max       499.000000  \n"
     ]
    }
   ],
   "source": [
    "# fact_inventory_movements\n",
    "fact_inventory_movements = pd.DataFrame({\n",
    "    'movement_id': range(1, NUM_ROWS_INVENTORY+1),\n",
    "    'product_id': np.random.choice(product_ids, NUM_ROWS_INVENTORY),\n",
    "    'plant_id': np.random.choice(plant_ids, NUM_ROWS_INVENTORY),\n",
    "    'date_key': np.random.choice(date_keys, NUM_ROWS_INVENTORY),\n",
    "    'movement_type': np.random.choice(['IN', 'OUT'], NUM_ROWS_INVENTORY),\n",
    "    'quantity': np.random.randint(10, 500, NUM_ROWS_INVENTORY)\n",
    "})\n",
    "print(fact_inventory_movements.head());\n",
    "print(fact_inventory_movements.describe());"
   ]
  },
  {
   "cell_type": "markdown",
   "id": "45681e53-2546-457d-af72-965548ce46a0",
   "metadata": {},
   "source": [
    "SAVE AS CSV FILES"
   ]
  },
  {
   "cell_type": "code",
   "execution_count": 94,
   "id": "b6126058-1ffa-4f8a-b5ba-705c0e26ebf6",
   "metadata": {},
   "outputs": [],
   "source": [
    "dim_date.to_csv('dim_date.csv', index=False)\n",
    "dim_plant.to_csv('dim_plant.csv', index=False)\n",
    "dim_shift.to_csv('dim_shift.csv', index=False)\n",
    "dim_fault_type.to_csv('dim_fault_type.csv', index=False)\n",
    "dim_product.to_csv('dim_product.csv', index=False)\n",
    "dim_operator.to_csv('dim_operator.csv', index=False)\n",
    "dim_machine.to_csv('dim_machine.csv', index=False)\n",
    "\n",
    "fact_production_orders.to_csv('fact_production_orders.csv', index=False)\n",
    "fact_quality_logs.to_csv('fact_quality_logs.csv', index=False)\n",
    "fact_machine_downtime.to_csv('fact_machine_downtime.csv', index=False)\n",
    "fact_cost_journals.to_csv('fact_cost_journals.csv', index=False)\n",
    "fact_inventory_movements.to_csv('fact_inventory_movements.csv', index=False)\n"
   ]
  }
 ],
 "metadata": {
  "kernelspec": {
   "display_name": "Python 3 (ipykernel)",
   "language": "python",
   "name": "python3"
  },
  "language_info": {
   "codemirror_mode": {
    "name": "ipython",
    "version": 3
   },
   "file_extension": ".py",
   "mimetype": "text/x-python",
   "name": "python",
   "nbconvert_exporter": "python",
   "pygments_lexer": "ipython3",
   "version": "3.12.4"
  }
 },
 "nbformat": 4,
 "nbformat_minor": 5
}
